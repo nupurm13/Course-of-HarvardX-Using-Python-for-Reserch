{
 "cells": [
  {
   "cell_type": "markdown",
   "metadata": {},
   "source": [
    "In this case study, we will analyze a dataset consisting of an assortment of wines classified as \"high quality\" and \"low quality\" and will use the k-Nearest Neighbors classifier to determine whether or not other information about the wine helps us correctly predict whether a new wine will be of high quality."
   ]
  },
  {
   "cell_type": "code",
   "execution_count": 1,
   "metadata": {},
   "outputs": [],
   "source": [
    "import numpy as np\n",
    "import matplotlib.pyplot as plt\n",
    "import pandas as pd\n",
    "import random"
   ]
  },
  {
   "cell_type": "code",
   "execution_count": 2,
   "metadata": {},
   "outputs": [],
   "source": [
    "def distance(p1, p2):\n",
    "    '''\n",
    "    Find the distance between points \n",
    "    p1 and p2\n",
    "    '''\n",
    "    return np.sqrt(np.sum(np.power(p2-p1, 2)))\n",
    "\n",
    "def magority_vote(votes):\n",
    "    '''\n",
    "    Finds the winner. If there is a tie among winners, the \n",
    "    program choose radomly\n",
    "    '''\n",
    "    vote_counts = {}\n",
    "    for vote in votes:\n",
    "        if vote in vote_counts:\n",
    "            vote_counts[vote] += 1\n",
    "        else:\n",
    "            vote_counts[vote] = 1\n",
    "            \n",
    "    winners = []\n",
    "    max_count = max(vote_counts.values())\n",
    "    for vote, count in vote_counts.items():\n",
    "        if count == max_count:\n",
    "            winners.append(vote)\n",
    "            \n",
    "    return random.choice(winners)\n",
    "\n",
    "def find_nearest_neighbors(p, points, k = 5):\n",
    "    '''\n",
    "    Find the k nearest neighbors of point p and return their indices.\n",
    "    '''\n",
    "    distances = np.zeros(points.shape[0])\n",
    "    #loop over all points\n",
    "    for i in range(len(distances)):\n",
    "        #compute the distance beetween point p and every other point\n",
    "        distances[i] = distance(p, points[i])\n",
    "    #sort distances and return those k points that are the nearest to point p\n",
    "    ind = np.argsort(distances)\n",
    "    return ind[:k]\n",
    "\n",
    "def knn_predict(p, points, outcomes, k = 5):\n",
    "    #find the k nearest neighbors\n",
    "    ind = find_nearest_neighbors(p, points)\n",
    "    #predict the class of p based on the majority votes\n",
    "    return magority_vote(outcomes[ind])\n",
    "\n",
    "def generate_syth_data(n = 50):\n",
    "    '''\n",
    "    Create two sets of points from bivariate normal distribution.\n",
    "    '''\n",
    "    points = np.concatenate((ss.norm(0,1).rvs((n,2)),ss.norm(1,1).rvs((n,2))),axis = 0)\n",
    "    outcomes = np.concatenate((np.repeat(0,n),np.repeat(1,n)))\n",
    "    return (points, outcomes)\n",
    "\n",
    "def make_prediction_grid(predictors, outcomes,limits, h, k):\n",
    "    '''\n",
    "    Classify each point on the pridiction grid.\n",
    "    '''\n",
    "    (x_min, x_max, y_min, y_max) = limits\n",
    "    xs = np.arange(x_min, x_max, h)\n",
    "    ys = np.arange(y_min, y_max, h)\n",
    "    xx, yy = np.meshgrid(xs, ys)\n",
    "    \n",
    "    prediction_grid = np.zeros(xx.shape, dtype = int)\n",
    "\n",
    "    for i, x in enumerate(xs):\n",
    "        for j, y in enumerate(ys):\n",
    "            p = np.array([x,y])\n",
    "            prediction_grid[j,i] = knn_predict(p, predictors, outcomes, k)\n",
    "    return (xx, yy, prediction_grid)\n",
    "\n",
    "def plot_prediction_grid (xx, yy, prediction_grid, filename):\n",
    "    \"\"\" Plot KNN predictions for every point on the grid.\"\"\"\n",
    "    from matplotlib.colors import ListedColormap\n",
    "    background_colormap = ListedColormap ([\"hotpink\",\"lightskyblue\", \"yellowgreen\"])\n",
    "    observation_colormap = ListedColormap ([\"red\",\"blue\",\"green\"])\n",
    "    plt.figure(figsize =(10,10))\n",
    "    plt.pcolormesh(xx, yy, prediction_grid, cmap = background_colormap, alpha = 0.5)\n",
    "    plt.scatter(predictors[:,0], predictors [:,1], c = outcomes, cmap = observation_colormap, s = 50)\n",
    "    plt.xlabel('Variable 1'); plt.ylabel('Variable 2')\n",
    "    plt.xticks(()); plt.yticks(())\n",
    "    plt.xlim (np.min(xx), np.max(xx))\n",
    "    plt.ylim (np.min(yy), np.max(yy))\n",
    "    plt.savefig(filename)"
   ]
  },
  {
   "cell_type": "markdown",
   "metadata": {},
   "source": [
    "# Exercise 1"
   ]
  },
  {
   "cell_type": "markdown",
   "metadata": {},
   "source": [
    "**Instructions**\n",
    "\n",
    "- Read in the data as a pandas dataframe using ```pd.read_csv```. The data can be found at https://s3.amazonaws.com/demo-datasets/wine.csv.\n"
   ]
  },
  {
   "cell_type": "code",
   "execution_count": 4,
   "metadata": {},
   "outputs": [],
   "source": [
    "data = pd.read_csv('wine.csv')"
   ]
  },
  {
   "cell_type": "markdown",
   "metadata": {},
   "source": [
    "# Exercise 2"
   ]
  },
  {
   "cell_type": "markdown",
   "metadata": {},
   "source": [
    "**Instructions**\n",
    "\n",
    "- The dataset remains stored as ```data```. Two columns in data are ```is_red``` and ```color```, which are redundant. Drop ```color``` from the dataset, and save the new dataset as ```numeric_data```.\n"
   ]
  },
  {
   "cell_type": "code",
   "execution_count": 5,
   "metadata": {},
   "outputs": [],
   "source": [
    "numeric_data = data.drop('color', 1)"
   ]
  },
  {
   "cell_type": "markdown",
   "metadata": {},
   "source": [
    "# Exercise 3"
   ]
  },
  {
   "cell_type": "markdown",
   "metadata": {},
   "source": [
    "**Instructions**\n",
    "\n",
    "- To ensure that each variable contributes equally to the kNN classifier, we need to standardize the data. First, from each variable in ```numeric_data```, subtract its mean. Second, for each variable in ```numeric_data```, divide by its standard deviation. Store your standardized result as ```numeric_data```.\n",
    "- Principal component analysis is a way to take a linear snapshot of the data from several different angles, with each snapshot ordered by how well it aligns with variation in the data. The ```sklearn.decomposition``` module contains the PCA class, which determines the most informative principal components of the data (a matrix with columns corresponding to the principal components). Use ```pca.fit(numeric_data).transform(numeric_data)``` to extract the first two principal components from the data. Store this as ```principal_components```.\n"
   ]
  },
  {
   "cell_type": "code",
   "execution_count": 6,
   "metadata": {},
   "outputs": [],
   "source": [
    "nnumeric_data = np.array(numeric_data)\n",
    "numeric_data = (numeric_data - np.mean(numeric_data, axis=0)) / np.std(numeric_data, ddof=0 )\n",
    "\n",
    "import sklearn.decomposition\n",
    "pca = sklearn.decomposition.PCA(n_components=2)\n",
    "principal_components = pca.fit(numeric_data).transform(numeric_data)"
   ]
  },
  {
   "cell_type": "markdown",
   "metadata": {},
   "source": [
    "# Exercise 4"
   ]
  },
  {
   "cell_type": "markdown",
   "metadata": {},
   "source": [
    "**Instructions**\n",
    "\n",
    "- The first two principal components can be accessed using ```principal_components[:,0]``` and ```principal_components[:,1]```. Store these as ```x``` and ```y``` respectively, and plot the first two principal components. The high and low quality wines will be colored using red and blue. How well are the two groups of wines separated by the first two principal components?\n"
   ]
  },
  {
   "cell_type": "code",
   "execution_count": 7,
   "metadata": {},
   "outputs": [
    {
     "data": {
      "image/png": "[encoded data removed]",
      "text/plain": [
       "<matplotlib.figure.Figure at 0x2494b278c50>"
      ]
     },
     "metadata": {},
     "output_type": "display_data"
    }
   ],
   "source": [
    "import matplotlib.pyplot as plt\n",
    "from matplotlib.colors import ListedColormap\n",
    "from matplotlib.backends.backend_pdf import PdfPages\n",
    "observation_colormap = ListedColormap(['red', 'blue'])\n",
    "x = principal_components[:,0] \n",
    "y = principal_components[:,1]\n",
    "\n",
    "plt.title(\"Principal Components of Wine\")\n",
    "plt.scatter(x, y, alpha = 0.2, c = data['high_quality'], cmap = observation_colormap, edgecolors = 'none')\n",
    "plt.xlim(-8, 8); plt.ylim(-8, 8)\n",
    "plt.xlabel(\"Principal Component 1\"); plt.ylabel(\"Principal Component 2\")\n",
    "plt.show()"
   ]
  },
  {
   "cell_type": "markdown",
   "metadata": {},
   "source": [
    "# Exercise 5"
   ]
  },
  {
   "cell_type": "markdown",
   "metadata": {},
   "source": [
    "**Instructions**\n",
    "\n",
    "- We are now ready to fit the wine data to our kNN classifier. Create a function ```accuracy(predictions, outcomes)``` that takes two lists of the same size as arguments and returns a single number, which is the percentage of elements that are equal for the two lists.\n",
    "- Use ```accuracy``` to compare the percentage of similar elements in ```x = np.array([1,2,3])``` and ```y = np.array([1,2,4])```.\n",
    "- Print your answer.\n"
   ]
  },
  {
   "cell_type": "code",
   "execution_count": 8,
   "metadata": {},
   "outputs": [
    {
     "name": "stdout",
     "output_type": "stream",
     "text": [
      "66.6666666667\n"
     ]
    }
   ],
   "source": [
    "def accuracy(predictions, outcomes):\n",
    "    return (100*np.mean(predictions == outcomes))\n",
    "\n",
    "x = np.array([1,2,3])\n",
    "y = np.array([1,2,4])\n",
    "print (accuracy(x, y))"
   ]
  },
  {
   "cell_type": "markdown",
   "metadata": {},
   "source": [
    "# Exercise 6"
   ]
  },
  {
   "cell_type": "markdown",
   "metadata": {},
   "source": [
    "**Instructions**\n",
    "\n",
    "- The dataset remains stored as data. Because most wines in the dataset are classified as low quality, one very simple classification rule is to predict that all wines are of low quality. Use the accuracy function (preloaded into memory as defined in Exercise 5) to calculate how many wines in the dataset are of low quality. Accomplish this by calling accuracy with 0 as the first argument, and data[\"high_quality\"] as the second argument.\n",
    "- Print your result.\n"
   ]
  },
  {
   "cell_type": "code",
   "execution_count": 9,
   "metadata": {},
   "outputs": [
    {
     "name": "stdout",
     "output_type": "stream",
     "text": [
      "36.693858704\n"
     ]
    }
   ],
   "source": [
    "print (accuracy(0, data[\"high_quality\"]))"
   ]
  },
  {
   "cell_type": "markdown",
   "metadata": {},
   "source": [
    "# Exercise 7"
   ]
  },
  {
   "cell_type": "markdown",
   "metadata": {},
   "source": [
    "**Instructions**\n",
    "\n",
    "- Use ```knn.predict(numeric_data)``` to predict which wines are high and low quality and store the result as ```library_predictions```.\n",
    "- Use ```accuracy``` to find the accuracy of your predictions, using ```library_predictions``` as the first argument and ```data[\"high_quality\"]``` as the second argument.\n",
    "- Print your answer. Is this prediction better than the simple classifier in Exercise 6?\n"
   ]
  },
  {
   "cell_type": "code",
   "execution_count": 10,
   "metadata": {},
   "outputs": [
    {
     "name": "stdout",
     "output_type": "stream",
     "text": [
      "99.9692165615\n"
     ]
    }
   ],
   "source": [
    "from sklearn.neighbors import KNeighborsClassifier\n",
    "knn = KNeighborsClassifier(n_neighbors = 5)\n",
    "knn.fit(numeric_data, data['high_quality'])\n",
    "# Enter your code here!\n",
    "library_predictions = knn.predict(numeric_data)\n",
    "\n",
    "print (accuracy (library_predictions, data[\"high_quality\"] ))"
   ]
  },
  {
   "cell_type": "markdown",
   "metadata": {},
   "source": [
    "# Exercise 8"
   ]
  },
  {
   "cell_type": "markdown",
   "metadata": {},
   "source": [
    "**Instructions**\n",
    "\n",
    "- Unlike the scikit-learn function, our homemade kNN classifier does not take any shortcuts in calculating which neighbors are closest to each observation, so it is likely too slow to carry out on the whole dataset. To circumvent this, fix the random generator using ```random.seed(123)```, and select 10 rows from the dataset using ```random.sample(range(n_rows), 10)```. Store this selection as ```selection```.\n"
   ]
  },
  {
   "cell_type": "code",
   "execution_count": 11,
   "metadata": {},
   "outputs": [
    {
     "data": {
      "text/plain": [
       "[428, 2192, 714, 6299, 3336, 2183, 882, 312, 3105, 4392]"
      ]
     },
     "execution_count": 11,
     "metadata": {},
     "output_type": "execute_result"
    }
   ],
   "source": [
    "n_rows = data.shape[0]\n",
    "random.seed(123)\n",
    "selection = random.sample(range(n_rows), 10)\n",
    "selection"
   ]
  },
  {
   "cell_type": "markdown",
   "metadata": {},
   "source": [
    "# Exercise 9"
   ]
  },
  {
   "cell_type": "markdown",
   "metadata": {},
   "source": [
    "**Instructions**\n",
    "\n",
    "- The sample of 10 row indices are stored as selection from the previous exercise. For each predictor ```p``` in ```predictors[selection]```, use ```knn_predict(p, predictors[training_indices,:], outcomes, k=5)``` to predict the quality of each wine in the prediction set, and store these predictions as a ```np.array``` called ```my_predictions```. Note that ```knn_predict``` is already defined as in the Case 3 videos.\n",
    "- Using the ```accuracy``` function, compare these results to the selected rows from the ```high_quality``` variable in ```data``` using ```my_predictions``` as the first argument and ```data.high_quality[selection]``` as the second argument. \n",
    "- Store these results as ```percentage```.\n",
    "- Print your answer.\n"
   ]
  },
  {
   "cell_type": "code",
   "execution_count": 12,
   "metadata": {},
   "outputs": [
    {
     "name": "stdout",
     "output_type": "stream",
     "text": [
      "70.0\n"
     ]
    }
   ],
   "source": [
    "predictors = np.array(numeric_data)\n",
    "training_indices = [i for i in range(len(predictors)) if i not in selection]\n",
    "outcomes = np.array(data[\"high_quality\"])\n",
    "\n",
    "#my_predictions = # Enter your code here!\n",
    "my_predictions = np.array([knn_predict(p, predictors[training_indices,:], outcomes, k=5) for p in predictors[selection]])\n",
    "#percentage = # Enter your code here!\n",
    "percentage = accuracy(my_predictions, data.high_quality[selection])\n",
    "print (percentage)"
   ]
  },
  {
   "cell_type": "code",
   "execution_count": null,
   "metadata": {},
   "outputs": [],
   "source": []
  }
 ],
 "metadata": {
  "anaconda-cloud": {},
  "kernelspec": {
   "display_name": "Python 3",
   "language": "python",
   "name": "python3"
  },
  "language_info": {
   "codemirror_mode": {
    "name": "ipython",
    "version": 3
   },
   "file_extension": ".py",
   "mimetype": "text/x-python",
   "name": "python",
   "nbconvert_exporter": "python",
   "pygments_lexer": "ipython3",
   "version": "3.6.1"
  }
 },
 "nbformat": 4,
 "nbformat_minor": 4
}
